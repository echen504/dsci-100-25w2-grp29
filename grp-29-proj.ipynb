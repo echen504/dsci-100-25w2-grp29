{
 "cells": [
  {
   "cell_type": "markdown",
   "id": "eafccd43-bd4c-43f2-8f30-6ebe9c09a9d0",
   "metadata": {},
   "source": [
    "# Predicting Newsletter Subscription Using Age and Hours Played\n",
    "\n",
    "<p>We will be addressing question 1:</p><p><em>What player characteristics and behaviours are most predictive of subscribing to a game-related newsletter, and how do these features differ between various player types?</em></p>\n",
    "\n",
    "To explore this, our question is:\n",
    "<strong>Can age and hours played predict if a player will subscribe to a game newsletter?</strong></em><p>\n",
    "\n",
    "This question will be answered using the players.csv dataset, which is composed of user input and system information from the PLAICraft server, collected by a UBC Computer Science research group led by Frank Wood. The dataset contains information about the players, which includes personal details such as their name, email, gender and age, alongside their experience levels, hours played and if they are subscribed or not to the newsletter.\n",
    "\n",
    "\n",
    "`players.csv`consists of user data with 196 observations and 7 variables:\n",
    "\n",
    "|<strong>Variable         | Data Type | Variable Definition</strong>                       |\n",
    "|:------------------------|:----------|:---------------------------------------------------|\n",
    "| `experience`            | chr       | Player's experience level                          |\n",
    "| `subscribe`             | lgl       | If player has subscribed to the game newsletter    |\n",
    "| `hashedEmail`           | chr       | Player's unique hashed email                       |\n",
    "| `played_hours`          | dbl       | Hours  player has played on the PLAICraft server   |\n",
    "| `name`                  | chr       | Player's name                                      |\n",
    "| `gender`                | chr       | Player's gender                                    |\n",
    "| `Age`                   | dbl       | Player's age                                       |\n",
    "\n",
    "\n"
   ]
  },
  {
   "cell_type": "markdown",
   "id": "34fb9469-2f74-4ba0-b328-b59e4cd0f19a",
   "metadata": {},
   "source": []
  }
 ],
 "metadata": {
  "kernelspec": {
   "display_name": "R",
   "language": "R",
   "name": "ir"
  },
  "language_info": {
   "codemirror_mode": "r",
   "file_extension": ".r",
   "mimetype": "text/x-r-source",
   "name": "R",
   "pygments_lexer": "r",
   "version": "4.3.3"
  }
 },
 "nbformat": 4,
 "nbformat_minor": 5
}
